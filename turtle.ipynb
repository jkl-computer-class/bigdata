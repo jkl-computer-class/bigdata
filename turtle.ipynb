{
 "cells": [
  {
   "cell_type": "markdown",
   "metadata": {},
   "source": [
    "## 사각형 그리기"
   ]
  },
  {
   "cell_type": "code",
   "execution_count": null,
   "metadata": {},
   "outputs": [],
   "source": []
  },
  {
   "cell_type": "code",
   "execution_count": null,
   "metadata": {},
   "outputs": [],
   "source": [
    "import turtle as t\n",
    "t.shape(\"turtle\")\n",
    "\n",
    "t. forward(100)\n",
    "\n",
    "t. right(90)\n",
    "\n",
    "t. forward(100)\n",
    "\n",
    "t. right(90)\n",
    "\n",
    "t. forward(150)\n",
    "\n",
    "t. right(90)\n",
    "\n",
    "t.forward(100)\n",
    "\n",
    "t.forward(200)\n",
    "\n",
    "t. left(90)\n",
    "\n",
    "t.forward(200)\n",
    "\n",
    "t.left(90)\n",
    "\n",
    "t.forward(200)\n",
    "\n",
    "t.left(90)\n",
    "\n",
    "t.forward(200)\n",
    "\n",
    "t.right(90)\n",
    "\n",
    "t.forward(300)"
   ]
  },
  {
   "cell_type": "markdown",
   "metadata": {},
   "source": [
    "## 삼각형 그리기"
   ]
  },
  {
   "cell_type": "code",
   "execution_count": 1,
   "metadata": {},
   "outputs": [],
   "source": [
    "import turtle as t\n",
    "t.shape(\"turtle\")\n",
    "\n",
    "t.forward(300)\n",
    "\n",
    "t.left(120)\n",
    "\n",
    "t.right(60)\n",
    "\n",
    "t.forward(300)\n",
    "\n",
    "t.left(120)\n",
    "\n",
    "t.forward(300)\n",
    "\n",
    "t.forward(200)\n",
    "\n",
    "t.right(120)\n",
    "\n",
    "t.forward(200)\n",
    "\n",
    "t.right(120)\n",
    "\n",
    "t.forward(200)\n",
    "\n",
    "t. right(60)\n",
    "\n",
    "t.right(30)\n",
    "\n",
    "t.forward(100)\n",
    "\n",
    "t.right(120)\n",
    "\n",
    "t.right(120)\n",
    "\n",
    "t.forward(100)\n",
    "\n",
    "t.right(120)\n",
    "\n",
    "t.right(120)\n",
    "\n",
    "t.forward(120)\n",
    "\n",
    "t.forward(100)\n",
    "t.left(120)\n",
    "t.forward(100)\n",
    "t.left(120)\n",
    "t.forward(100)"
   ]
  },
  {
   "cell_type": "code",
   "execution_count": 1,
   "metadata": {},
   "outputs": [],
   "source": [
    "import turtle as t\n",
    "t.shape(\"turtle\")"
   ]
  },
  {
   "cell_type": "code",
   "execution_count": 2,
   "metadata": {},
   "outputs": [],
   "source": [
    "t.forward(250)\n",
    "t.right(90)\n",
    "t.forward(250)\n",
    "t.right(90)\n",
    "t.forward(250)\n",
    "t.right(90)\n",
    "t.forward(250)\n",
    "t.right(90)"
   ]
  },
  {
   "cell_type": "code",
   "execution_count": 3,
   "metadata": {},
   "outputs": [],
   "source": [
    "t.left(180)\n",
    "t.forward(250)\n",
    "t.left(90)"
   ]
  },
  {
   "cell_type": "code",
   "execution_count": 4,
   "metadata": {},
   "outputs": [],
   "source": [
    "t.left(180)\n",
    "t.forward(250)\n",
    "t.left(180)\n",
    "t.forward(250)\n",
    "t.left(180)\n",
    "t.forward(250)"
   ]
  },
  {
   "cell_type": "code",
   "execution_count": 5,
   "metadata": {},
   "outputs": [],
   "source": [
    "t.forward(250)\n",
    "t.left(90)\n",
    "t.forward(250)\n",
    "t.left(90)"
   ]
  },
  {
   "cell_type": "code",
   "execution_count": 6,
   "metadata": {},
   "outputs": [],
   "source": [
    "t.left(180)"
   ]
  },
  {
   "cell_type": "code",
   "execution_count": 7,
   "metadata": {},
   "outputs": [],
   "source": [
    "t.forward(500)"
   ]
  },
  {
   "cell_type": "code",
   "execution_count": 1,
   "metadata": {},
   "outputs": [],
   "source": [
    "import turtle as t\n",
    "t.shape(\"turtle\")"
   ]
  },
  {
   "cell_type": "markdown",
   "metadata": {},
   "source": [
    "## 원 그리기"
   ]
  },
  {
   "cell_type": "code",
   "execution_count": 2,
   "metadata": {},
   "outputs": [],
   "source": [
    "import turtle as t\n",
    "t.shape(\"turtle\")\n",
    "\n",
    "t.circle(200)\n",
    "\n",
    "t.circle(150)\n",
    "\n",
    "t.circle(125)\n",
    "\n",
    "t.circle(100)"
   ]
  },
  {
   "cell_type": "markdown",
   "metadata": {},
   "source": [
    "## 내 이름 쓰기"
   ]
  },
  {
   "cell_type": "code",
   "execution_count": 1,
   "metadata": {},
   "outputs": [],
   "source": [
    "import turtle as t\n",
    "t.shape(\"turtle\")\n",
    "\n",
    "t.circle(50)\n",
    "\n",
    "t.left(45)\n",
    "\n",
    "t.forward(160)\n",
    "\n",
    "t.right(135)\n",
    "\n",
    "t.forward(150)\n",
    "\n",
    "t.left(130)\n",
    "\n",
    "t.forward(170)\n",
    "\n",
    "t.left(135)\n",
    "\n",
    "t.forward(100)\n",
    "\n",
    "t.left(180)\n",
    "\n",
    "t.forward(120)\n",
    "\n",
    "t.left(180)\n",
    "\n",
    "t.forward(20)\n",
    "\n",
    "t.left(135)\n",
    "\n",
    "t.right(90)\n",
    "\n",
    "t.forward(70)\n",
    "\n",
    "t.left(90)\n",
    "\n",
    "t.forward(70)\n",
    "\n",
    "t.right(90)\n",
    "\n",
    "t.left(45)\n",
    "\n",
    "t.forward(30)\n",
    "\n",
    "t.left(180)\n",
    "t.forward(150)\n",
    "\n",
    "t.left(180)\n",
    "t.forward(70)\n",
    "\n",
    "t.left(90)\n",
    "t.forward(50)\n",
    "\n",
    "t.penup()\n",
    "t.forward(70)\n",
    "t.pendown()\n",
    "\n",
    "t.penup()\n",
    "t.left(135)\n",
    "t.forward(60)\n",
    "\n",
    "t.right(140)\n",
    "\n",
    "t.pendown()\n",
    "t.forward(120)\n",
    "t.right(140)\n",
    "t.forward(120)\n",
    "\n",
    "t.left(180)\n",
    "t.forward(100)\n",
    "\n",
    "t.right(40)\n",
    "t.forward(40)\n",
    "t.left(90)\n",
    "t.forward(40)\n",
    "\n",
    "t.left(180)\n",
    "t.forward(80)\n",
    "t.right(90)\n",
    "t.forward(50)\n",
    "t.left(180)\n",
    "t.forward(50)\n",
    "t.right(90)\n",
    "\n",
    "t.forward(50)\n",
    "t.right(90)\n",
    "\n",
    "t.circle(30)"
   ]
  },
  {
   "cell_type": "code",
   "execution_count": 2,
   "metadata": {},
   "outputs": [],
   "source": [
    "t.penup()\n",
    "t.right(30)\n",
    "t.forward(500)"
   ]
  },
  {
   "cell_type": "code",
   "execution_count": 3,
   "metadata": {},
   "outputs": [],
   "source": [
    "t.left(20)\n",
    "t.forward(200)"
   ]
  },
  {
   "cell_type": "code",
   "execution_count": 4,
   "metadata": {},
   "outputs": [],
   "source": [
    "t.left(10)\n",
    "t.forward(200)"
   ]
  },
  {
   "cell_type": "code",
   "execution_count": 5,
   "metadata": {},
   "outputs": [],
   "source": [
    "t.pendown()\n",
    "t.circle(20)\n",
    "t.penup()"
   ]
  },
  {
   "cell_type": "code",
   "execution_count": 6,
   "metadata": {},
   "outputs": [],
   "source": [
    "t.left(140)"
   ]
  },
  {
   "cell_type": "code",
   "execution_count": 7,
   "metadata": {},
   "outputs": [],
   "source": [
    "t.left(140)"
   ]
  },
  {
   "cell_type": "code",
   "execution_count": 8,
   "metadata": {},
   "outputs": [],
   "source": [
    "t.right(30)"
   ]
  },
  {
   "cell_type": "code",
   "execution_count": 9,
   "metadata": {},
   "outputs": [],
   "source": [
    "t.right(20)"
   ]
  },
  {
   "cell_type": "code",
   "execution_count": 10,
   "metadata": {},
   "outputs": [],
   "source": [
    "t.forward(20)"
   ]
  },
  {
   "cell_type": "code",
   "execution_count": 11,
   "metadata": {},
   "outputs": [],
   "source": [
    "t.right(130)"
   ]
  },
  {
   "cell_type": "code",
   "execution_count": 12,
   "metadata": {},
   "outputs": [],
   "source": [
    "t.left(90)"
   ]
  },
  {
   "cell_type": "code",
   "execution_count": 13,
   "metadata": {},
   "outputs": [],
   "source": [
    "t.forward(5)"
   ]
  },
  {
   "cell_type": "code",
   "execution_count": 14,
   "metadata": {},
   "outputs": [],
   "source": [
    "t.right(90)"
   ]
  },
  {
   "cell_type": "code",
   "execution_count": 15,
   "metadata": {},
   "outputs": [],
   "source": [
    "t.pendown()\n",
    "t.forward(30)"
   ]
  },
  {
   "cell_type": "code",
   "execution_count": 16,
   "metadata": {},
   "outputs": [],
   "source": [
    "t.forward(30)"
   ]
  },
  {
   "cell_type": "code",
   "execution_count": 17,
   "metadata": {},
   "outputs": [],
   "source": [
    "t.penup()\n",
    "t.left(170)"
   ]
  },
  {
   "cell_type": "code",
   "execution_count": 18,
   "metadata": {},
   "outputs": [],
   "source": [
    "t.forward(130)"
   ]
  },
  {
   "cell_type": "code",
   "execution_count": 19,
   "metadata": {},
   "outputs": [],
   "source": [
    "t.left(180)"
   ]
  },
  {
   "cell_type": "code",
   "execution_count": 20,
   "metadata": {},
   "outputs": [],
   "source": [
    "t.forward(100)"
   ]
  },
  {
   "cell_type": "code",
   "execution_count": 21,
   "metadata": {},
   "outputs": [],
   "source": [
    "t.left(100)"
   ]
  },
  {
   "cell_type": "code",
   "execution_count": 23,
   "metadata": {},
   "outputs": [],
   "source": [
    "t.forward(10)"
   ]
  },
  {
   "cell_type": "code",
   "execution_count": 25,
   "metadata": {},
   "outputs": [],
   "source": [
    "t.pendown()\n",
    "t.forward(30)"
   ]
  },
  {
   "cell_type": "code",
   "execution_count": 26,
   "metadata": {},
   "outputs": [],
   "source": [
    "t.right(130)"
   ]
  },
  {
   "cell_type": "code",
   "execution_count": 27,
   "metadata": {},
   "outputs": [],
   "source": [
    "t.forward(30)\n",
    "t.left(180)\n",
    "t.right(90)\n",
    "t.forward(20)"
   ]
  },
  {
   "cell_type": "code",
   "execution_count": 30,
   "metadata": {},
   "outputs": [],
   "source": [
    "t.penup()\n",
    "t.left(130)"
   ]
  },
  {
   "cell_type": "code",
   "execution_count": 31,
   "metadata": {},
   "outputs": [],
   "source": [
    "t.left(90)"
   ]
  },
  {
   "cell_type": "code",
   "execution_count": 32,
   "metadata": {},
   "outputs": [],
   "source": [
    "t.right(50)"
   ]
  },
  {
   "cell_type": "code",
   "execution_count": 33,
   "metadata": {},
   "outputs": [],
   "source": [
    "t.forward(100)"
   ]
  },
  {
   "cell_type": "code",
   "execution_count": 34,
   "metadata": {},
   "outputs": [],
   "source": [
    "t.left(90)"
   ]
  },
  {
   "cell_type": "code",
   "execution_count": 35,
   "metadata": {},
   "outputs": [],
   "source": [
    "t.forward(20)"
   ]
  },
  {
   "cell_type": "code",
   "execution_count": 36,
   "metadata": {},
   "outputs": [],
   "source": [
    "t.forward(5)"
   ]
  },
  {
   "cell_type": "code",
   "execution_count": 37,
   "metadata": {},
   "outputs": [],
   "source": [
    "t.left(130)"
   ]
  },
  {
   "cell_type": "code",
   "execution_count": 38,
   "metadata": {},
   "outputs": [],
   "source": [
    "t.pendown()\n",
    "t.forward(50)"
   ]
  },
  {
   "cell_type": "code",
   "execution_count": 39,
   "metadata": {},
   "outputs": [],
   "source": [
    "t.left(180)\n",
    "t.forward(25)"
   ]
  },
  {
   "cell_type": "code",
   "execution_count": 1,
   "metadata": {},
   "outputs": [],
   "source": [
    "import turtle as t\n",
    "t.shape(\"turtle\")\n",
    "\n",
    "for x in range(4)\n",
    "t.pensize(3)\n",
    "t. color(\"green\")\n",
    "t. fd(100)\n",
    "t. lt(100)\n",
    "\n",
    "# 사각형 그리기\n",
    "t.color(\"green\")\n",
    "t.pensize(3)\n",
    "t. forward(150)\n",
    "t. right(90)\n",
    "t. forward(150)\n",
    "t. right(90)\n",
    "t. forward(150)\n",
    "t. right(90)\n",
    "t.forward(150)\n",
    "\n",
    "\n",
    "# 삼각형 그리기\n",
    "t.color(\"red\")\n",
    "t.forward(100)\n",
    "t.left(120)\n",
    "t.forward(100)\n",
    "t.left(120)\n",
    "t.forward(100)\n",
    "t.forward(200)\n",
    "\n",
    "\n",
    "#원 그리기\n",
    "t.color(\"blue\")\n",
    "t.pensize(2)\n",
    "t.circle(200)\n",
    "\n"
   ]
  },
  {
   "cell_type": "code",
   "execution_count": 7,
   "metadata": {},
   "outputs": [],
   "source": [
    "import turtle as t\n",
    "t.shape(\"turtle\")\n",
    "\n",
    "t.pensize(3)\n",
    "t. color(\"green\")\n",
    "for x in range(3):  # 반복되는 작업을 for 구문으로 \n",
    "    t. forward(100)\n",
    "    t. right(120)\n",
    "\n",
    "t. color(\"blue\")\n",
    "t.pensize(3)\n",
    "for x in range(4):\n",
    "    t. forward(100)\n",
    "    t. right(90)\n",
    "\n",
    "t. color(\"red\")\n",
    "t.pensize(5)\n",
    "t.circle(100)"
   ]
  },
  {
   "cell_type": "code",
   "execution_count": 1,
   "metadata": {},
   "outputs": [],
   "source": [
    "# 원을 반복해서 그리는 프로그램\n",
    "\n",
    "import turtle as t\n",
    "t.shape(\"turtle\")\n",
    "\n",
    "n = 60      #원을 50개 그린다.\n",
    "t.bgcolor(\"black\")   #배경색을 검정으로 지정\n",
    "t.color(\"green\")     #펜 색을 초록으로 지정\n",
    "t.speed(0)    #거북이 속도를 가장 빠르게 지정\n",
    "\n",
    "for x in range(n):\n",
    "    t.circle(80)\n",
    "    t.left(360/n)"
   ]
  },
  {
   "cell_type": "code",
   "execution_count": 3,
   "metadata": {},
   "outputs": [],
   "source": [
    "# 선을 반복해서 그리는 프로그램\n",
    "\n",
    "import turtle as t\n",
    "t.shape(\"turtle\")\n",
    "\n",
    "angle=89 #거북이가 왼쪽으로 회전할 각도를 지정\n",
    "t.bgcolor(\"black\")\n",
    "t.color(\"red\")\n",
    "t.speed(0)\n",
    "\n",
    "for x in range(200):\n",
    "    t.circle(x)         # x만큼 앞으로 이동\n",
    "    t. left(angle)      # 거북이가 왼쪽으로 89도 회전"
   ]
  },
  {
   "cell_type": "markdown",
   "metadata": {},
   "source": [
    "### 0331"
   ]
  },
  {
   "cell_type": "code",
   "execution_count": 1,
   "metadata": {},
   "outputs": [],
   "source": [
    "# 태극 모양을 그리는 프로그램\n",
    "\n",
    "import turtle as t\n",
    "t.shape(\"turtle\")\n",
    "\n",
    "t.bgcolor(\"black\")\n",
    "t.speed(0)\n",
    "\n",
    "for x in range(200):\n",
    "    if x % 3 == 0:\n",
    "        t.color(\"red\")\n",
    "    if x % 3 == 1:\n",
    "        t.color(\"yellow\")\n",
    "    if x % 3 == 2:\n",
    "        t.color(\"blue\")      # 이렇게 몫/나머지로 구분하는 이유: 색깔 번갈아가면서 나오게 할려고\n",
    "    t.forward(x * 2)         # x*2 만큼 앞으로 이동(반복하면서 선이 점점 길어진다.)\n",
    "    t.left(119)              # 거북이를 119도 왼쪽으로 회전"
   ]
  },
  {
   "cell_type": "code",
   "execution_count": 1,
   "metadata": {},
   "outputs": [],
   "source": [
    "# 태극 모양을 그리는 프로그램(함수로 만들기, range 부분 인자로 넣을 것) \n",
    "# 출력하기\n",
    "\n",
    "import turtle as t\n",
    "t.shape(\"turtle\")\n",
    "\n",
    "def taeguek_df(n1, n2, n3, n4):\n",
    "    t.bgcolor(\"black\")\n",
    "    t.speed(0)\n",
    "    \n",
    "    for x in range(n1):\n",
    "        if x % 3 == 0:\n",
    "            t.color(n2)\n",
    "        if x % 3 == 1:\n",
    "            t.color(n3)\n",
    "        if x % 3 == 2:\n",
    "            t.color(n4)\n",
    "        t.forward(x * 2)\n",
    "        t.left(119)"
   ]
  },
  {
   "cell_type": "code",
   "execution_count": 2,
   "metadata": {},
   "outputs": [],
   "source": [
    "taeguek_df(150, 'maroon', 'yellow', 'orange')  # 위에 과정 말고 여기 함수에서 인자 마음대로 바꿀 수 있어서 편리"
   ]
  },
  {
   "cell_type": "code",
   "execution_count": null,
   "metadata": {},
   "outputs": [],
   "source": []
  },
  {
   "cell_type": "code",
   "execution_count": null,
   "metadata": {},
   "outputs": [],
   "source": []
  }
 ],
 "metadata": {
  "kernelspec": {
   "display_name": "Python 3",
   "language": "python",
   "name": "python3"
  },
  "language_info": {
   "codemirror_mode": {
    "name": "ipython",
    "version": 3
   },
   "file_extension": ".py",
   "mimetype": "text/x-python",
   "name": "python",
   "nbconvert_exporter": "python",
   "pygments_lexer": "ipython3",
   "version": "3.7.6"
  }
 },
 "nbformat": 4,
 "nbformat_minor": 4
}
